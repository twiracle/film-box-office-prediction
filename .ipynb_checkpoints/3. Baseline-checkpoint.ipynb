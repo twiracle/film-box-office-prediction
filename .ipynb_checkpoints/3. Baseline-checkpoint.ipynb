{
 "cells": [
  {
   "cell_type": "code",
   "execution_count": 1,
   "id": "3018081a",
   "metadata": {},
   "outputs": [],
   "source": [
    "import numpy as np\n",
    "import pandas as pd\n",
    "\n",
    "from sklearn.model_selection import train_test_split\n",
    "from sklearn.metrics import mean_absolute_error, mean_squared_error, r2_score, mean_squared_log_error\n",
    "from sklearn.ensemble import RandomForestRegressor\n",
    "from catboost import CatBoostRegressor\n",
    "from lightgbm import LGBMRegressor\n",
    "from lightgbm import early_stopping\n",
    "\n",
    "from typing import Callable\n",
    "from tqdm import tqdm\n",
    "import warnings\n",
    "\n",
    "warnings.filterwarnings(\"ignore\")\n",
    "\n",
    "RAND = 42"
   ]
  },
  {
   "cell_type": "markdown",
   "id": "89aadd71",
   "metadata": {},
   "source": [
    "# Описание и импорт данных"
   ]
  },
  {
   "cell_type": "markdown",
   "id": "2b552ec9",
   "metadata": {},
   "source": [
    "Задачей данного проекта является предсказание кассовых сборов фильмов.\n",
    "Данные были собраны с сайта Кинопоиск с использованием собственного парсера. Были выбраны данные о фильмах США за все годы с первых 1000 страниц сайта (на следующих страницах информации о кассовых сборах практически не было)."
   ]
  },
  {
   "cell_type": "markdown",
   "id": "81dfb915",
   "metadata": {},
   "source": [
    "Проект был разделен на несколько частей, каждая из которых представляет собой отдельный Jupyter ноутбук:\n",
    "1. Parsing-Kinopoisk – сбор и данных для дальнейшего анализа\n",
    "2. EDA – исследовательский анализ данных, который включает в себя первичный анализ данных, обработку пропусков, преобразование признаков выявление закономерностей и взаимосвязей в данных, формулировка гипотез и визуализация наиболее важных признаков\n",
    "3. **Baseline – обучение baseline модели и оценка ее метрик**\n",
    "4. Tuning – подбор гиперпараметров модели для улучшения качества предсказаний и оценка полученных метрик\n",
    "5. Post-analysis – оценка важности признаков и анализ результатов предсказания"
   ]
  },
  {
   "cell_type": "markdown",
   "id": "1f14c258",
   "metadata": {},
   "source": [
    "**Описания полей:**\n",
    "- rating - пользовательский рейтинг на Кинопоиске\n",
    "- production_year - год производства\n",
    "- director - режиссер\n",
    "- age_rating - возрастной рейтинг\n",
    "- duration - продолжительность в минутах\n",
    "- budget - бюджет фильма\n",
    "- **target - кассовые сборы фильма**\n",
    "- target_log - прологарифмированное значение target (распределение более близкое к нормальному)\n",
    "- main_genre - основной жанр фильма\n",
    "- month - месяц выпуска фильма\n",
    "- director_film_count - количество фильмов, которые снял режиссер\n",
    "- actors_fame - слава актеров, которые снимались в фильме (слава = количество фильмов, в которых снимались актеры)"
   ]
  },
  {
   "cell_type": "code",
   "execution_count": 2,
   "id": "12b8ccad",
   "metadata": {},
   "outputs": [],
   "source": [
    "df = pd.read_csv('data/df_clean.csv')"
   ]
  },
  {
   "cell_type": "code",
   "execution_count": 3,
   "id": "46288736",
   "metadata": {},
   "outputs": [
    {
     "data": {
      "text/html": [
       "<div>\n",
       "<style scoped>\n",
       "    .dataframe tbody tr th:only-of-type {\n",
       "        vertical-align: middle;\n",
       "    }\n",
       "\n",
       "    .dataframe tbody tr th {\n",
       "        vertical-align: top;\n",
       "    }\n",
       "\n",
       "    .dataframe thead th {\n",
       "        text-align: right;\n",
       "    }\n",
       "</style>\n",
       "<table border=\"1\" class=\"dataframe\">\n",
       "  <thead>\n",
       "    <tr style=\"text-align: right;\">\n",
       "      <th></th>\n",
       "      <th>rating</th>\n",
       "      <th>production_year</th>\n",
       "      <th>director</th>\n",
       "      <th>age_rating</th>\n",
       "      <th>duration</th>\n",
       "      <th>budget</th>\n",
       "      <th>target</th>\n",
       "      <th>target_log</th>\n",
       "      <th>main_genre</th>\n",
       "      <th>month</th>\n",
       "      <th>director_film_count</th>\n",
       "      <th>actors_fame</th>\n",
       "    </tr>\n",
       "  </thead>\n",
       "  <tbody>\n",
       "    <tr>\n",
       "      <th>0</th>\n",
       "      <td>8.6</td>\n",
       "      <td>2019</td>\n",
       "      <td>Гай Ричи</td>\n",
       "      <td>18+</td>\n",
       "      <td>113</td>\n",
       "      <td>22000000.0</td>\n",
       "      <td>115171795.0</td>\n",
       "      <td>18.561935</td>\n",
       "      <td>криминал</td>\n",
       "      <td>декабрь</td>\n",
       "      <td>5</td>\n",
       "      <td>46</td>\n",
       "    </tr>\n",
       "    <tr>\n",
       "      <th>1</th>\n",
       "      <td>8.0</td>\n",
       "      <td>2013</td>\n",
       "      <td>Мартин Скорсезе</td>\n",
       "      <td>18+</td>\n",
       "      <td>180</td>\n",
       "      <td>100000000.0</td>\n",
       "      <td>392000694.0</td>\n",
       "      <td>19.786774</td>\n",
       "      <td>драма</td>\n",
       "      <td>декабрь</td>\n",
       "      <td>26</td>\n",
       "      <td>54</td>\n",
       "    </tr>\n",
       "    <tr>\n",
       "      <th>2</th>\n",
       "      <td>8.3</td>\n",
       "      <td>1990</td>\n",
       "      <td>Крис Коламбус</td>\n",
       "      <td>0+</td>\n",
       "      <td>103</td>\n",
       "      <td>18000000.0</td>\n",
       "      <td>476684675.0</td>\n",
       "      <td>19.982366</td>\n",
       "      <td>комедия</td>\n",
       "      <td>ноябрь</td>\n",
       "      <td>12</td>\n",
       "      <td>39</td>\n",
       "    </tr>\n",
       "    <tr>\n",
       "      <th>3</th>\n",
       "      <td>8.1</td>\n",
       "      <td>2019</td>\n",
       "      <td>Райан Джонсон</td>\n",
       "      <td>18+</td>\n",
       "      <td>130</td>\n",
       "      <td>40000000.0</td>\n",
       "      <td>312897920.0</td>\n",
       "      <td>19.561388</td>\n",
       "      <td>детектив</td>\n",
       "      <td>сентябрь</td>\n",
       "      <td>6</td>\n",
       "      <td>40</td>\n",
       "    </tr>\n",
       "    <tr>\n",
       "      <th>4</th>\n",
       "      <td>8.5</td>\n",
       "      <td>2018</td>\n",
       "      <td>Other</td>\n",
       "      <td>18+</td>\n",
       "      <td>130</td>\n",
       "      <td>23000000.0</td>\n",
       "      <td>321752656.0</td>\n",
       "      <td>19.589294</td>\n",
       "      <td>биография</td>\n",
       "      <td>сентябрь</td>\n",
       "      <td>1</td>\n",
       "      <td>25</td>\n",
       "    </tr>\n",
       "  </tbody>\n",
       "</table>\n",
       "</div>"
      ],
      "text/plain": [
       "   rating  production_year         director age_rating  duration       budget  \\\n",
       "0     8.6             2019         Гай Ричи        18+       113   22000000.0   \n",
       "1     8.0             2013  Мартин Скорсезе        18+       180  100000000.0   \n",
       "2     8.3             1990    Крис Коламбус         0+       103   18000000.0   \n",
       "3     8.1             2019    Райан Джонсон        18+       130   40000000.0   \n",
       "4     8.5             2018            Other        18+       130   23000000.0   \n",
       "\n",
       "        target  target_log main_genre     month  director_film_count  \\\n",
       "0  115171795.0   18.561935   криминал   декабрь                    5   \n",
       "1  392000694.0   19.786774      драма   декабрь                   26   \n",
       "2  476684675.0   19.982366    комедия    ноябрь                   12   \n",
       "3  312897920.0   19.561388   детектив  сентябрь                    6   \n",
       "4  321752656.0   19.589294  биография  сентябрь                    1   \n",
       "\n",
       "   actors_fame  \n",
       "0           46  \n",
       "1           54  \n",
       "2           39  \n",
       "3           40  \n",
       "4           25  "
      ]
     },
     "execution_count": 3,
     "metadata": {},
     "output_type": "execute_result"
    }
   ],
   "source": [
    "df.head()"
   ]
  },
  {
   "cell_type": "markdown",
   "id": "5bebc575",
   "metadata": {},
   "source": [
    "# Подготовка данных"
   ]
  },
  {
   "cell_type": "code",
   "execution_count": 4,
   "id": "81f6b201",
   "metadata": {},
   "outputs": [
    {
     "name": "stdout",
     "output_type": "stream",
     "text": [
      "<class 'pandas.core.frame.DataFrame'>\n",
      "RangeIndex: 11586 entries, 0 to 11585\n",
      "Data columns (total 12 columns):\n",
      " #   Column               Non-Null Count  Dtype  \n",
      "---  ------               --------------  -----  \n",
      " 0   rating               11586 non-null  float64\n",
      " 1   production_year      11586 non-null  int64  \n",
      " 2   director             11586 non-null  object \n",
      " 3   age_rating           11586 non-null  object \n",
      " 4   duration             11586 non-null  int64  \n",
      " 5   budget               11586 non-null  float64\n",
      " 6   target               11586 non-null  float64\n",
      " 7   target_log           11586 non-null  float64\n",
      " 8   main_genre           11586 non-null  object \n",
      " 9   month                11586 non-null  object \n",
      " 10  director_film_count  11586 non-null  int64  \n",
      " 11  actors_fame          11586 non-null  int64  \n",
      "dtypes: float64(4), int64(4), object(4)\n",
      "memory usage: 1.1+ MB\n"
     ]
    }
   ],
   "source": [
    "df.info()"
   ]
  },
  {
   "cell_type": "code",
   "execution_count": 5,
   "id": "9251cee3",
   "metadata": {},
   "outputs": [
    {
     "data": {
      "text/html": [
       "<div>\n",
       "<style scoped>\n",
       "    .dataframe tbody tr th:only-of-type {\n",
       "        vertical-align: middle;\n",
       "    }\n",
       "\n",
       "    .dataframe tbody tr th {\n",
       "        vertical-align: top;\n",
       "    }\n",
       "\n",
       "    .dataframe thead th {\n",
       "        text-align: right;\n",
       "    }\n",
       "</style>\n",
       "<table border=\"1\" class=\"dataframe\">\n",
       "  <thead>\n",
       "    <tr style=\"text-align: right;\">\n",
       "      <th></th>\n",
       "      <th>rating</th>\n",
       "      <th>production_year</th>\n",
       "      <th>duration</th>\n",
       "      <th>budget</th>\n",
       "      <th>target</th>\n",
       "      <th>target_log</th>\n",
       "      <th>director_film_count</th>\n",
       "      <th>actors_fame</th>\n",
       "    </tr>\n",
       "  </thead>\n",
       "  <tbody>\n",
       "    <tr>\n",
       "      <th>count</th>\n",
       "      <td>11586.000000</td>\n",
       "      <td>11586.000000</td>\n",
       "      <td>11586.000000</td>\n",
       "      <td>1.158600e+04</td>\n",
       "      <td>1.158600e+04</td>\n",
       "      <td>11586.000000</td>\n",
       "      <td>11586.000000</td>\n",
       "      <td>11586.000000</td>\n",
       "    </tr>\n",
       "    <tr>\n",
       "      <th>mean</th>\n",
       "      <td>6.482100</td>\n",
       "      <td>2000.692733</td>\n",
       "      <td>102.209477</td>\n",
       "      <td>2.623855e+07</td>\n",
       "      <td>4.938522e+07</td>\n",
       "      <td>14.738539</td>\n",
       "      <td>5.019247</td>\n",
       "      <td>30.500000</td>\n",
       "    </tr>\n",
       "    <tr>\n",
       "      <th>std</th>\n",
       "      <td>0.857360</td>\n",
       "      <td>18.162576</td>\n",
       "      <td>18.291630</td>\n",
       "      <td>3.380685e+07</td>\n",
       "      <td>1.391413e+08</td>\n",
       "      <td>3.263122</td>\n",
       "      <td>5.855420</td>\n",
       "      <td>26.078125</td>\n",
       "    </tr>\n",
       "    <tr>\n",
       "      <th>min</th>\n",
       "      <td>1.200000</td>\n",
       "      <td>1913.000000</td>\n",
       "      <td>0.000000</td>\n",
       "      <td>2.200000e+02</td>\n",
       "      <td>3.000000e+01</td>\n",
       "      <td>3.401197</td>\n",
       "      <td>1.000000</td>\n",
       "      <td>1.000000</td>\n",
       "    </tr>\n",
       "    <tr>\n",
       "      <th>25%</th>\n",
       "      <td>6.000000</td>\n",
       "      <td>1992.000000</td>\n",
       "      <td>91.000000</td>\n",
       "      <td>7.000000e+06</td>\n",
       "      <td>2.025952e+05</td>\n",
       "      <td>12.218965</td>\n",
       "      <td>1.000000</td>\n",
       "      <td>9.000000</td>\n",
       "    </tr>\n",
       "    <tr>\n",
       "      <th>50%</th>\n",
       "      <td>6.600000</td>\n",
       "      <td>2005.000000</td>\n",
       "      <td>99.000000</td>\n",
       "      <td>1.533853e+07</td>\n",
       "      <td>4.349009e+06</td>\n",
       "      <td>15.285459</td>\n",
       "      <td>3.000000</td>\n",
       "      <td>23.000000</td>\n",
       "    </tr>\n",
       "    <tr>\n",
       "      <th>75%</th>\n",
       "      <td>7.066667</td>\n",
       "      <td>2014.000000</td>\n",
       "      <td>110.000000</td>\n",
       "      <td>2.900000e+07</td>\n",
       "      <td>3.345683e+07</td>\n",
       "      <td>17.325767</td>\n",
       "      <td>7.000000</td>\n",
       "      <td>46.000000</td>\n",
       "    </tr>\n",
       "    <tr>\n",
       "      <th>max</th>\n",
       "      <td>9.100000</td>\n",
       "      <td>2024.000000</td>\n",
       "      <td>319.000000</td>\n",
       "      <td>3.785000e+08</td>\n",
       "      <td>2.923706e+09</td>\n",
       "      <td>21.796118</td>\n",
       "      <td>42.000000</td>\n",
       "      <td>175.000000</td>\n",
       "    </tr>\n",
       "  </tbody>\n",
       "</table>\n",
       "</div>"
      ],
      "text/plain": [
       "             rating  production_year      duration        budget  \\\n",
       "count  11586.000000     11586.000000  11586.000000  1.158600e+04   \n",
       "mean       6.482100      2000.692733    102.209477  2.623855e+07   \n",
       "std        0.857360        18.162576     18.291630  3.380685e+07   \n",
       "min        1.200000      1913.000000      0.000000  2.200000e+02   \n",
       "25%        6.000000      1992.000000     91.000000  7.000000e+06   \n",
       "50%        6.600000      2005.000000     99.000000  1.533853e+07   \n",
       "75%        7.066667      2014.000000    110.000000  2.900000e+07   \n",
       "max        9.100000      2024.000000    319.000000  3.785000e+08   \n",
       "\n",
       "             target    target_log  director_film_count   actors_fame  \n",
       "count  1.158600e+04  11586.000000         11586.000000  11586.000000  \n",
       "mean   4.938522e+07     14.738539             5.019247     30.500000  \n",
       "std    1.391413e+08      3.263122             5.855420     26.078125  \n",
       "min    3.000000e+01      3.401197             1.000000      1.000000  \n",
       "25%    2.025952e+05     12.218965             1.000000      9.000000  \n",
       "50%    4.349009e+06     15.285459             3.000000     23.000000  \n",
       "75%    3.345683e+07     17.325767             7.000000     46.000000  \n",
       "max    2.923706e+09     21.796118            42.000000    175.000000  "
      ]
     },
     "execution_count": 5,
     "metadata": {},
     "output_type": "execute_result"
    }
   ],
   "source": [
    "df.describe()"
   ]
  },
  {
   "cell_type": "code",
   "execution_count": 6,
   "id": "62784745",
   "metadata": {},
   "outputs": [
    {
     "data": {
      "text/html": [
       "<div>\n",
       "<style scoped>\n",
       "    .dataframe tbody tr th:only-of-type {\n",
       "        vertical-align: middle;\n",
       "    }\n",
       "\n",
       "    .dataframe tbody tr th {\n",
       "        vertical-align: top;\n",
       "    }\n",
       "\n",
       "    .dataframe thead th {\n",
       "        text-align: right;\n",
       "    }\n",
       "</style>\n",
       "<table border=\"1\" class=\"dataframe\">\n",
       "  <thead>\n",
       "    <tr style=\"text-align: right;\">\n",
       "      <th></th>\n",
       "      <th>director</th>\n",
       "      <th>age_rating</th>\n",
       "      <th>main_genre</th>\n",
       "      <th>month</th>\n",
       "    </tr>\n",
       "  </thead>\n",
       "  <tbody>\n",
       "    <tr>\n",
       "      <th>count</th>\n",
       "      <td>11586</td>\n",
       "      <td>11586</td>\n",
       "      <td>11586</td>\n",
       "      <td>11586</td>\n",
       "    </tr>\n",
       "    <tr>\n",
       "      <th>unique</th>\n",
       "      <td>501</td>\n",
       "      <td>6</td>\n",
       "      <td>25</td>\n",
       "      <td>12</td>\n",
       "    </tr>\n",
       "    <tr>\n",
       "      <th>top</th>\n",
       "      <td>Other</td>\n",
       "      <td>18+</td>\n",
       "      <td>драма</td>\n",
       "      <td>сентябрь</td>\n",
       "    </tr>\n",
       "    <tr>\n",
       "      <th>freq</th>\n",
       "      <td>7434</td>\n",
       "      <td>4000</td>\n",
       "      <td>3573</td>\n",
       "      <td>1608</td>\n",
       "    </tr>\n",
       "  </tbody>\n",
       "</table>\n",
       "</div>"
      ],
      "text/plain": [
       "       director age_rating main_genre     month\n",
       "count     11586      11586      11586     11586\n",
       "unique      501          6         25        12\n",
       "top       Other        18+      драма  сентябрь\n",
       "freq       7434       4000       3573      1608"
      ]
     },
     "execution_count": 6,
     "metadata": {},
     "output_type": "execute_result"
    }
   ],
   "source": [
    "df.describe(include='object')"
   ]
  },
  {
   "cell_type": "markdown",
   "id": "d651dcd1",
   "metadata": {},
   "source": [
    "- как видим, пропущенных значений в данных нет (они были обработаны на предыдущем этапе) и у всех переменных правильные типы данных\n",
    "- так как в данном проекте будет использоваться CatBoost, то все признаки типа object нужно перевести в тип category, что избавит нас от бинаризации категориальных признаков\n",
    "- вместо target при обучении мы будем использовать target_log, так как у этой переменной более нормальное распределение"
   ]
  },
  {
   "cell_type": "code",
   "execution_count": 7,
   "id": "0c1d7005",
   "metadata": {},
   "outputs": [],
   "source": [
    "# выбор признаков с типом данных 'object'\n",
    "cols_to_cat = [col for col in df.columns if df[col].dtype == 'object']"
   ]
  },
  {
   "cell_type": "code",
   "execution_count": 8,
   "id": "9e0c1cd0",
   "metadata": {},
   "outputs": [],
   "source": [
    "# изменение типа данных на 'category'\n",
    "df[cols_to_cat] = df[cols_to_cat].astype('category')"
   ]
  },
  {
   "cell_type": "markdown",
   "id": "2f59dc84",
   "metadata": {},
   "source": [
    "- разделим данные на X и y"
   ]
  },
  {
   "cell_type": "code",
   "execution_count": 9,
   "id": "f75325db",
   "metadata": {},
   "outputs": [],
   "source": [
    "X = df.drop(['target', 'target_log'], axis=1)\n",
    "y = df.target_log"
   ]
  },
  {
   "cell_type": "markdown",
   "id": "283ea187",
   "metadata": {},
   "source": [
    "- разделим данные на train, validation и test в соотношении 64%/16%/20%"
   ]
  },
  {
   "cell_type": "code",
   "execution_count": 10,
   "id": "c2da40ac",
   "metadata": {},
   "outputs": [],
   "source": [
    "# разделение на train и test\n",
    "X_train_, X_test, y_train_, y_test = train_test_split(X,\n",
    "                                                      y,\n",
    "                                                      test_size=0.2,\n",
    "                                                      shuffle=True,\n",
    "                                                      random_state=RAND)\n",
    "\n",
    "# разделение на train и validation\n",
    "X_train, X_val, y_train, y_val = train_test_split(X_train_,\n",
    "                                                  y_train_,\n",
    "                                                  test_size=0.16,\n",
    "                                                  shuffle=True,\n",
    "                                                  random_state=RAND)"
   ]
  },
  {
   "cell_type": "markdown",
   "id": "98592dce",
   "metadata": {},
   "source": [
    "# Baseline модель"
   ]
  },
  {
   "cell_type": "markdown",
   "id": "db3e0025",
   "metadata": {},
   "source": [
    "В данном проекте в качестве модели было решено использовать **CatBoost** и **LightGBM**, а потом сравнить их результаты на бейзлайне и выбрать лучшую, по таким причинам:\n",
    "- отлично подходят для анализа табличных данных\n",
    "- быстро обучаются и имеют высокую точность предсказаний\n",
    "- умеют обрабатывать категориальные признаки без необходимости их кодирования, что упрощает работу с большим количеством уникальных значений\n",
    "- хорошо работают с разреженными данными\n",
    "\n",
    "В качестве метрики для оценки была выбрана **MAE**, так как она более устойчива к выбросам"
   ]
  },
  {
   "cell_type": "code",
   "execution_count": 11,
   "id": "dccd8154",
   "metadata": {},
   "outputs": [],
   "source": [
    "# выбор категориальных признаков\n",
    "cat_features = list(X_train.select_dtypes('category').columns)"
   ]
  },
  {
   "cell_type": "code",
   "execution_count": 12,
   "id": "76982eb5",
   "metadata": {},
   "outputs": [],
   "source": [
    "# создание моделей\n",
    "cb_baseline = CatBoostRegressor(random_state=RAND,\n",
    "                                eval_metric=\"MAE\", \n",
    "                                objective='MAE',\n",
    "                                cat_features=cat_features)\n",
    "\n",
    "lgb_baseline = LGBMRegressor(objective='mae', random_state=RAND, verbosity=-1)"
   ]
  },
  {
   "cell_type": "code",
   "execution_count": 13,
   "id": "d15a4bca",
   "metadata": {},
   "outputs": [
    {
     "name": "stdout",
     "output_type": "stream",
     "text": [
      "Training until validation scores don't improve for 100 rounds\n",
      "Did not meet early stopping. Best iteration is:\n",
      "[100]\tvalid_0's l1: 1.4146\n"
     ]
    }
   ],
   "source": [
    "# создание набора для валидации\n",
    "eval_set = [(X_val, y_val)]\n",
    "\n",
    "# обучение моделей\n",
    "cb_baseline.fit(X_train,\n",
    "                y_train,\n",
    "                eval_set=eval_set,\n",
    "                verbose=False,\n",
    "                early_stopping_rounds=100)\n",
    "\n",
    "lgb_baseline.fit(X_train,\n",
    "                 y_train,\n",
    "                 eval_metric=\"MAE\",\n",
    "                 categorical_feature=cat_features,\n",
    "                 eval_set=eval_set,\n",
    "                 callbacks=[early_stopping(stopping_rounds=100)]);"
   ]
  },
  {
   "cell_type": "code",
   "execution_count": 14,
   "id": "5d4a15ad",
   "metadata": {},
   "outputs": [],
   "source": [
    "# получение предсказаний\n",
    "y_pred_cb = cb_baseline.predict(X_test)\n",
    "y_pred_lgb = lgb_baseline.predict(X_test)"
   ]
  },
  {
   "cell_type": "markdown",
   "id": "d4c578ba",
   "metadata": {},
   "source": [
    "# Метрики"
   ]
  },
  {
   "cell_type": "code",
   "execution_count": 15,
   "id": "fe55ef9e",
   "metadata": {
    "code_folding": []
   },
   "outputs": [],
   "source": [
    "def r2_adjusted(y_true: np.ndarray, y_pred: np.ndarray,\n",
    "                X_test: np.ndarray) -> float:\n",
    "    '''\n",
    "    Вычисление коэффициента детерминации для множественной регрессии\n",
    "    \n",
    "    Parameters\n",
    "    -----------\n",
    "    y_test: np.ndarray\n",
    "        тестовые значения y\n",
    "    y_pred: np.ndarray\n",
    "        предсказания модели\n",
    "    X_test: np.ndarray\n",
    "        тестовые значения X\n",
    "    \n",
    "    Returns\n",
    "    ----------\n",
    "    Значение метрики\n",
    "    '''\n",
    "    n_objects = len(y_true)\n",
    "    n_features = X_test.shape[1]\n",
    "    r2 = r2_score(y_true, y_pred)\n",
    "    return 1 - (1 - r2) * (n_objects - 1) / (n_objects - n_features - 1)\n",
    "\n",
    "\n",
    "def wape(y_true: np.ndarray, y_pred: np.ndarray) -> float:\n",
    "    '''\n",
    "    Вычисление взвешенной абсолютной процентной ошибки\n",
    "    \n",
    "    Parameters\n",
    "    -----------\n",
    "    y_test: np.ndarray\n",
    "        тестовые значения y\n",
    "    y_pred: np.ndarray\n",
    "        предсказания модели\n",
    "    \n",
    "    Returns\n",
    "    ----------\n",
    "    Значение метрики\n",
    "    '''\n",
    "    return np.sum(np.abs(y_pred - y_true)) * 100 / np.sum(y_true)\n",
    "\n",
    "\n",
    "def rmsle(y_true: np.ndarray, y_pred: np.ndarray) -> np.float64:\n",
    "    '''\n",
    "    Вычисление среднеквадратической логарифмической ошибки\n",
    "    \n",
    "    Parameters\n",
    "    -----------\n",
    "    y_test: np.ndarray\n",
    "        тестовые значения y\n",
    "    y_pred: np.ndarray\n",
    "        предсказания модели \n",
    "        \n",
    "    Returns\n",
    "    ----------\n",
    "    Значение метрики\n",
    "    '''\n",
    "    try:\n",
    "        return np.sqrt(mean_squared_log_error(y_true, y_pred))\n",
    "    except:\n",
    "        return None\n",
    "\n",
    "\n",
    "def get_metrics(y_test: np.ndarray, y_pred: np.ndarray, X_test: np.ndarray,\n",
    "                name: str) -> pd.DataFrame:\n",
    "    '''\n",
    "    Создание таблицы с основными метриками для модели\n",
    "    \n",
    "    Parameters\n",
    "    ----------\n",
    "    y_test: np.ndarray\n",
    "        тестовые значения y\n",
    "    y_pred: np.ndarray\n",
    "        предсказания модели\n",
    "    X_test: np.ndarray\n",
    "        тестовые значения X\n",
    "    Returns\n",
    "    ----------\n",
    "    датафрейм с метриками\n",
    "    '''\n",
    "    metrics = pd.DataFrame()\n",
    "\n",
    "    metrics['model'] = [name]\n",
    "    metrics['MSE'] = mean_squared_error(y_test, y_pred)\n",
    "    metrics['RMSE'] = np.sqrt(mean_squared_error(y_test, y_pred))\n",
    "    metrics['RMSLE'] = rmsle(y_test, y_pred)\n",
    "    metrics['MAE'] = mean_absolute_error(y_test, y_pred)\n",
    "    metrics['R2 adjusted'] = r2_adjusted(y_test, y_pred, X_test)\n",
    "    metrics['WAPE_%'] = wape(y_test, y_pred)\n",
    "\n",
    "    return metrics"
   ]
  },
  {
   "cell_type": "code",
   "execution_count": 16,
   "id": "c40eecbf",
   "metadata": {},
   "outputs": [],
   "source": [
    "# создание датафрейма с метриками + потенционирование\n",
    "metrics = pd.concat([\n",
    "    get_metrics(np.exp(y_train), np.exp(cb_baseline.predict(X_train)), X_train,\n",
    "                'CatBoostBaselineTrain'),\n",
    "    get_metrics(np.exp(y_test), np.exp(y_pred_cb), X_test,\n",
    "                'CatBoostBaselineTest'),\n",
    "    get_metrics(np.exp(y_train), np.exp(lgb_baseline.predict(X_train)),\n",
    "                X_train, 'LGBMBaselineTrain'),\n",
    "    get_metrics(np.exp(y_test), np.exp(y_pred_lgb), X_test, 'LGBMBaselineTest')\n",
    "])"
   ]
  },
  {
   "cell_type": "code",
   "execution_count": 17,
   "id": "90b77041",
   "metadata": {},
   "outputs": [
    {
     "data": {
      "text/html": [
       "<style type=\"text/css\">\n",
       "#T_138fc_row0_col4, #T_138fc_row1_col3, #T_138fc_row1_col5, #T_138fc_row2_col0, #T_138fc_row2_col1, #T_138fc_row3_col2 {\n",
       "  background-color: lightpink;\n",
       "}\n",
       "#T_138fc_row1_col4, #T_138fc_row2_col2, #T_138fc_row2_col3, #T_138fc_row2_col5, #T_138fc_row3_col0, #T_138fc_row3_col1 {\n",
       "  background-color: lightblue;\n",
       "}\n",
       "</style>\n",
       "<table id=\"T_138fc\">\n",
       "  <thead>\n",
       "    <tr>\n",
       "      <th class=\"blank level0\" >&nbsp;</th>\n",
       "      <th id=\"T_138fc_level0_col0\" class=\"col_heading level0 col0\" >MSE</th>\n",
       "      <th id=\"T_138fc_level0_col1\" class=\"col_heading level0 col1\" >RMSE</th>\n",
       "      <th id=\"T_138fc_level0_col2\" class=\"col_heading level0 col2\" >RMSLE</th>\n",
       "      <th id=\"T_138fc_level0_col3\" class=\"col_heading level0 col3\" >MAE</th>\n",
       "      <th id=\"T_138fc_level0_col4\" class=\"col_heading level0 col4\" >R2 adjusted</th>\n",
       "      <th id=\"T_138fc_level0_col5\" class=\"col_heading level0 col5\" >WAPE_%</th>\n",
       "    </tr>\n",
       "    <tr>\n",
       "      <th class=\"index_name level0\" >model</th>\n",
       "      <th class=\"blank col0\" >&nbsp;</th>\n",
       "      <th class=\"blank col1\" >&nbsp;</th>\n",
       "      <th class=\"blank col2\" >&nbsp;</th>\n",
       "      <th class=\"blank col3\" >&nbsp;</th>\n",
       "      <th class=\"blank col4\" >&nbsp;</th>\n",
       "      <th class=\"blank col5\" >&nbsp;</th>\n",
       "    </tr>\n",
       "  </thead>\n",
       "  <tbody>\n",
       "    <tr>\n",
       "      <th id=\"T_138fc_level0_row0\" class=\"row_heading level0 row0\" >CatBoostBaselineTrain</th>\n",
       "      <td id=\"T_138fc_row0_col0\" class=\"data row0 col0\" >5894928942723778.000000</td>\n",
       "      <td id=\"T_138fc_row0_col1\" class=\"data row0 col1\" >76778440.611436</td>\n",
       "      <td id=\"T_138fc_row0_col2\" class=\"data row0 col2\" >1.799804</td>\n",
       "      <td id=\"T_138fc_row0_col3\" class=\"data row0 col3\" >24208523.565597</td>\n",
       "      <td id=\"T_138fc_row0_col4\" class=\"data row0 col4\" >0.715322</td>\n",
       "      <td id=\"T_138fc_row0_col5\" class=\"data row0 col5\" >48.974804</td>\n",
       "    </tr>\n",
       "    <tr>\n",
       "      <th id=\"T_138fc_level0_row1\" class=\"row_heading level0 row1\" >CatBoostBaselineTest</th>\n",
       "      <td id=\"T_138fc_row1_col0\" class=\"data row1 col0\" >5843035434928676.000000</td>\n",
       "      <td id=\"T_138fc_row1_col1\" class=\"data row1 col1\" >76439750.358885</td>\n",
       "      <td id=\"T_138fc_row1_col2\" class=\"data row1 col2\" >1.944247</td>\n",
       "      <td id=\"T_138fc_row1_col3\" class=\"data row1 col3\" >27809983.773220</td>\n",
       "      <td id=\"T_138fc_row1_col4\" class=\"data row1 col4\" >0.658584</td>\n",
       "      <td id=\"T_138fc_row1_col5\" class=\"data row1 col5\" >55.508199</td>\n",
       "    </tr>\n",
       "    <tr>\n",
       "      <th id=\"T_138fc_level0_row2\" class=\"row_heading level0 row2\" >LGBMBaselineTrain</th>\n",
       "      <td id=\"T_138fc_row2_col0\" class=\"data row2 col0\" >6377899338583602.000000</td>\n",
       "      <td id=\"T_138fc_row2_col1\" class=\"data row2 col1\" >79861751.411947</td>\n",
       "      <td id=\"T_138fc_row2_col2\" class=\"data row2 col2\" >1.760601</td>\n",
       "      <td id=\"T_138fc_row2_col3\" class=\"data row2 col3\" >22592390.786591</td>\n",
       "      <td id=\"T_138fc_row2_col4\" class=\"data row2 col4\" >0.691999</td>\n",
       "      <td id=\"T_138fc_row2_col5\" class=\"data row2 col5\" >45.705303</td>\n",
       "    </tr>\n",
       "    <tr>\n",
       "      <th id=\"T_138fc_level0_row3\" class=\"row_heading level0 row3\" >LGBMBaselineTest</th>\n",
       "      <td id=\"T_138fc_row3_col0\" class=\"data row3 col0\" >5542783863964557.000000</td>\n",
       "      <td id=\"T_138fc_row3_col1\" class=\"data row3 col1\" >74449874.841833</td>\n",
       "      <td id=\"T_138fc_row3_col2\" class=\"data row3 col2\" >1.973105</td>\n",
       "      <td id=\"T_138fc_row3_col3\" class=\"data row3 col3\" >27150351.399408</td>\n",
       "      <td id=\"T_138fc_row3_col4\" class=\"data row3 col4\" >0.676128</td>\n",
       "      <td id=\"T_138fc_row3_col5\" class=\"data row3 col5\" >54.191586</td>\n",
       "    </tr>\n",
       "  </tbody>\n",
       "</table>\n"
      ],
      "text/plain": [
       "<pandas.io.formats.style.Styler at 0x1def35cc810>"
      ]
     },
     "execution_count": 17,
     "metadata": {},
     "output_type": "execute_result"
    }
   ],
   "source": [
    "metrics.set_index('model').style.highlight_min(\n",
    "    axis=0, color='lightblue').highlight_max(axis=0, color='lightpink')"
   ]
  },
  {
   "cell_type": "markdown",
   "id": "898b2219",
   "metadata": {},
   "source": [
    "- в целом, метрики на трейне и тесте у обоих моделей отличаются, но не очень сильно, то есть переобучение не очень большое\n",
    "- по значениям MAE, MSE, RMSE и RMSLE сложно что-то сказать, так как их значения напрямую зависят от таргет переменной, но по MAE лучше справилась модель lightgbm, а на остальных метриках - catboost\n",
    "- по значению R2 можно сказать, что lightgbm немного лучше обьясняет дисперсию таргет переменной на тестовых данных, чем catboost \n",
    "- но WAPE (ошибка на регрессии) довольно велика, так что в следующих разделах попытаемся улучшить модель"
   ]
  },
  {
   "cell_type": "code",
   "execution_count": 18,
   "id": "617f1216",
   "metadata": {},
   "outputs": [],
   "source": [
    "def check_overfitting(model: CatBoostRegressor | LGBMRegressor, X_train: np.ndarray,\n",
    "                      y_train: np.ndarray, X_test: np.ndarray,\n",
    "                      y_test: np.ndarray, metric: Callable,\n",
    "                      model_name: str) -> None:\n",
    "    '''\n",
    "    Проверяет переобучилась ли модель\n",
    "    \n",
    "    Parameters\n",
    "    ----------\n",
    "    model: CatBoostRegressor | LGBMRegressor\n",
    "        модель\n",
    "    X_train: np.ndarray\n",
    "        тренировочные данные\n",
    "    y_train: np.ndarray\n",
    "        тренировочные значения y\n",
    "    X_test: np.ndarray\n",
    "        тестовые данные\n",
    "    y_test: np.ndarray\n",
    "        тестовые значения y\n",
    "    metric: Callable\n",
    "        функция-метрика для оценки переобучения\n",
    "    model_name: str\n",
    "        название модели\n",
    "    \n",
    "    Returns\n",
    "    ----------\n",
    "    Данные о переобучении и метрики на train и test\n",
    "    '''\n",
    "    y_pred_train = model.predict(X_train)\n",
    "    y_pred_test = model.predict(X_test)\n",
    "\n",
    "    metric_train = metric(np.exp(y_train), np.exp(y_pred_train))\n",
    "    metric_test = metric(np.exp(y_test), np.exp(y_pred_test))\n",
    "\n",
    "    print(f'Рассчет переобучения {model_name}')\n",
    "    print(f'{metric.__name__} на train: {round(metric_train, 2)}')\n",
    "    print(f'{metric.__name__} на test: {round(metric_test, 2)}')\n",
    "    print(\n",
    "        f'delta = {round((abs(metric_train - metric_test) / metric_test*100), 1)}%'\n",
    "    )"
   ]
  },
  {
   "cell_type": "code",
   "execution_count": 19,
   "id": "f8ad1940",
   "metadata": {},
   "outputs": [
    {
     "name": "stdout",
     "output_type": "stream",
     "text": [
      "Рассчет переобучения CatBoostBaseline\n",
      "mean_absolute_error на train: 24208523.57\n",
      "mean_absolute_error на test: 27809983.77\n",
      "delta = 13.0%\n"
     ]
    }
   ],
   "source": [
    "# проверка на переобучение\n",
    "check_overfitting(cb_baseline, X_train, y_train, X_test, y_test,\n",
    "                  mean_absolute_error, 'CatBoostBaseline')"
   ]
  },
  {
   "cell_type": "code",
   "execution_count": 20,
   "id": "2958ec6c",
   "metadata": {},
   "outputs": [
    {
     "name": "stdout",
     "output_type": "stream",
     "text": [
      "Рассчет переобучения LGBMBaseline\n",
      "mean_absolute_error на train: 22592390.79\n",
      "mean_absolute_error на test: 27150351.4\n",
      "delta = 16.8%\n"
     ]
    }
   ],
   "source": [
    "# проверка на переобучение\n",
    "check_overfitting(lgb_baseline, X_train, y_train, X_test, y_test,\n",
    "                  mean_absolute_error, 'LGBMBaseline')"
   ]
  },
  {
   "cell_type": "markdown",
   "id": "0e79a406",
   "metadata": {},
   "source": [
    "- при использовании MAE в качестве метрики для проверки, catboost показывает переобучение в 13 процентов, а lightgbm в 16.8\n",
    "- оба результата довольно хорошие, но учитывая значения метрик и то, что они немного лучше у lightgbm, будем использовать его, а переобучение попытаемся уменьшить при подборе параметров"
   ]
  },
  {
   "cell_type": "markdown",
   "id": "90c075c4",
   "metadata": {},
   "source": [
    "- сохраним данные о метриках"
   ]
  },
  {
   "cell_type": "code",
   "execution_count": 21,
   "id": "b1f5dce6",
   "metadata": {},
   "outputs": [],
   "source": [
    "metrics.to_csv('metrics/metrics.csv', index=False)"
   ]
  }
 ],
 "metadata": {
  "kernelspec": {
   "display_name": "Python 3 (ipykernel)",
   "language": "python",
   "name": "python3"
  },
  "language_info": {
   "codemirror_mode": {
    "name": "ipython",
    "version": 3
   },
   "file_extension": ".py",
   "mimetype": "text/x-python",
   "name": "python",
   "nbconvert_exporter": "python",
   "pygments_lexer": "ipython3",
   "version": "3.11.3"
  },
  "toc": {
   "base_numbering": 1,
   "nav_menu": {},
   "number_sections": true,
   "sideBar": true,
   "skip_h1_title": false,
   "title_cell": "Table of Contents",
   "title_sidebar": "Contents",
   "toc_cell": false,
   "toc_position": {
    "height": "523.2px",
    "left": "22px",
    "top": "110.525px",
    "width": "230.575px"
   },
   "toc_section_display": true,
   "toc_window_display": true
  },
  "varInspector": {
   "cols": {
    "lenName": 16,
    "lenType": 16,
    "lenVar": 40
   },
   "kernels_config": {
    "python": {
     "delete_cmd_postfix": "",
     "delete_cmd_prefix": "del ",
     "library": "var_list.py",
     "varRefreshCmd": "print(var_dic_list())"
    },
    "r": {
     "delete_cmd_postfix": ") ",
     "delete_cmd_prefix": "rm(",
     "library": "var_list.r",
     "varRefreshCmd": "cat(var_dic_list()) "
    }
   },
   "types_to_exclude": [
    "module",
    "function",
    "builtin_function_or_method",
    "instance",
    "_Feature"
   ],
   "window_display": false
  }
 },
 "nbformat": 4,
 "nbformat_minor": 5
}
